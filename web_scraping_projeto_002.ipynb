{
  "nbformat": 4,
  "nbformat_minor": 0,
  "metadata": {
    "colab": {
      "name": "webs scraping_projeto_002.ipynb",
      "provenance": [],
      "collapsed_sections": []
    },
    "kernelspec": {
      "name": "python3",
      "display_name": "Python 3"
    },
    "language_info": {
      "name": "python"
    }
  },
  "cells": [
    {
      "cell_type": "code",
      "metadata": {
        "id": "g_QgxCFpvImA"
      },
      "source": [
        "import requests\n",
        "from bs4 import BeautifulSoup\n",
        "\n"
      ],
      "execution_count": 1,
      "outputs": []
    },
    {
      "cell_type": "code",
      "metadata": {
        "id": "G6b0_qFkggMZ"
      },
      "source": [
        "url = ('http://antigo.saude.gov.br/saude-de-a-z/suicidio')"
      ],
      "execution_count": 4,
      "outputs": []
    },
    {
      "cell_type": "code",
      "metadata": {
        "colab": {
          "base_uri": "https://localhost:8080/"
        },
        "id": "6LfY06YvhJER",
        "outputId": "d2286602-4293-4779-b098-89a3c05342b9"
      },
      "source": [
        "page = requests.get('http://antigo.saude.gov.br/saude-de-a-z/suicidio')\n",
        "print(page)"
      ],
      "execution_count": 5,
      "outputs": [
        {
          "output_type": "stream",
          "text": [
            "<Response [200]>\n"
          ],
          "name": "stdout"
        }
      ]
    },
    {
      "cell_type": "code",
      "metadata": {
        "id": "ipvf_WWtiG3F"
      },
      "source": [
        "bs = BeautifulSoup(page.text, 'html.parser')\n"
      ],
      "execution_count": 6,
      "outputs": []
    },
    {
      "cell_type": "code",
      "metadata": {
        "id": "eJdSSP-4kGdH",
        "colab": {
          "base_uri": "https://localhost:8080/"
        },
        "outputId": "3b7cb2e9-428c-43be-82b2-329b12391563"
      },
      "source": [],
      "execution_count": 7,
      "outputs": [
        {
          "output_type": "stream",
          "text": [
            "titulo:\n",
            "\t\t\tPrevenção do suicídio: sinais para saber e agir\t\t\n"
          ],
          "name": "stdout"
        }
      ]
    },
    {
      "cell_type": "code",
      "metadata": {
        "colab": {
          "base_uri": "https://localhost:8080/"
        },
        "id": "6STdcPI0lAn-",
        "outputId": "bbfdf065-8d5d-4f21-a378-c063afef813b"
      },
      "source": [
        "paragrafos = bs.find_all('p')\n",
        "paragrafos = [paragrafos[i].get_text () for i in range(0, 7)]\n",
        "print(paragrafos)"
      ],
      "execution_count": 8,
      "outputs": [
        {
          "output_type": "stream",
          "text": [
            "['', 'O suicídio é um fenômeno complexo, multifacetado e de múltiplas determinações, que pode afetar indivíduos de diferentes origens, classes sociais, idades, orientações sexuais e identidades de gênero. \\nMas o suicídio pode ser prevenido! Saber reconhecer os sinais de alerta em si mesmo ou em alguém próximo a você pode ser o primeiro e mais importante passo. Por isso, fique atento(a) se a pessoa demonstra comportamento suicida e procure ajudá-la.', '', '', '', 'Os sinais de alerta descritos abaixo não devem ser considerados isoladamente. Não há uma “receita” para detectar seguramente quando uma pessoa está vivenciando uma crise suicida, nem se tem algum tipo de tendência suicida. Entretanto, um indivíduo em sofrimento pode dar certos sinais, que devem chamar a atenção de seus familiares e amigos próximos, sobretudo se muitos desses sinais se manifestam ao mesmo tempo', 'Essas manifestações não devem ser interpretadas como ameaças nem como chantagens emocionais, mas sim como avisos de alerta para um risco real.']\n"
          ],
          "name": "stdout"
        }
      ]
    },
    {
      "cell_type": "code",
      "metadata": {
        "colab": {
          "base_uri": "https://localhost:8080/"
        },
        "id": "QSE3b-4c7upp",
        "outputId": "c00bae13-9489-4ffb-e936-fd1dd1ddd822"
      },
      "source": [
        "paragrafos"
      ],
      "execution_count": 9,
      "outputs": [
        {
          "output_type": "execute_result",
          "data": {
            "text/plain": [
              "['',\n",
              " 'O suicídio é um fenômeno complexo, multifacetado e de múltiplas determinações, que pode afetar indivíduos de diferentes origens, classes sociais, idades, orientações sexuais e identidades de gênero. \\nMas o suicídio pode ser prevenido! Saber reconhecer os sinais de alerta em si mesmo ou em alguém próximo a você pode ser o primeiro e mais importante passo. Por isso, fique atento(a) se a pessoa demonstra comportamento suicida e procure ajudá-la.',\n",
              " '',\n",
              " '',\n",
              " '',\n",
              " 'Os sinais de alerta descritos abaixo não devem ser considerados isoladamente. Não há uma “receita” para detectar seguramente quando uma pessoa está vivenciando uma crise suicida, nem se tem algum tipo de tendência suicida. Entretanto, um indivíduo em sofrimento pode dar certos sinais, que devem chamar a atenção de seus familiares e amigos próximos, sobretudo se muitos desses sinais se manifestam ao mesmo tempo',\n",
              " 'Essas manifestações não devem ser interpretadas como ameaças nem como chantagens emocionais, mas sim como avisos de alerta para um risco real.']"
            ]
          },
          "metadata": {
            "tags": []
          },
          "execution_count": 9
        }
      ]
    },
    {
      "cell_type": "code",
      "metadata": {
        "id": "Dn334EBHqWKq"
      },
      "source": [
        "import pandas as pd\n",
        "import numpy as np\n"
      ],
      "execution_count": 11,
      "outputs": []
    },
    {
      "cell_type": "code",
      "metadata": {
        "id": "gsmsp1EJcn_g"
      },
      "source": [
        "nome_dataset = 'atlas_violencia_dados-series'"
      ],
      "execution_count": 12,
      "outputs": []
    },
    {
      "cell_type": "code",
      "metadata": {
        "id": "x0Fd-0dRcq44"
      },
      "source": [
        "df = pd.read_csv('/content/suicidios (2).csv')"
      ],
      "execution_count": 17,
      "outputs": []
    },
    {
      "cell_type": "code",
      "metadata": {
        "colab": {
          "base_uri": "https://localhost:8080/",
          "height": 388
        },
        "id": "94aw-74Bc3f2",
        "outputId": "18747bc9-c754-46bf-860d-34f494fe32d7"
      },
      "source": [
        "df.head(200)"
      ],
      "execution_count": 19,
      "outputs": [
        {
          "output_type": "execute_result",
          "data": {
            "text/html": [
              "<div>\n",
              "<style scoped>\n",
              "    .dataframe tbody tr th:only-of-type {\n",
              "        vertical-align: middle;\n",
              "    }\n",
              "\n",
              "    .dataframe tbody tr th {\n",
              "        vertical-align: top;\n",
              "    }\n",
              "\n",
              "    .dataframe thead th {\n",
              "        text-align: right;\n",
              "    }\n",
              "</style>\n",
              "<table border=\"1\" class=\"dataframe\">\n",
              "  <thead>\n",
              "    <tr style=\"text-align: right;\">\n",
              "      <th></th>\n",
              "      <th>cod;nome;período;valor</th>\n",
              "    </tr>\n",
              "  </thead>\n",
              "  <tbody>\n",
              "    <tr>\n",
              "      <th>0</th>\n",
              "      <td>11;RO;1979;21</td>\n",
              "    </tr>\n",
              "    <tr>\n",
              "      <th>1</th>\n",
              "      <td>12;AC;1979;2</td>\n",
              "    </tr>\n",
              "    <tr>\n",
              "      <th>2</th>\n",
              "      <td>13;AM;1979;19</td>\n",
              "    </tr>\n",
              "    <tr>\n",
              "      <th>3</th>\n",
              "      <td>14;RR;1979;2</td>\n",
              "    </tr>\n",
              "    <tr>\n",
              "      <th>4</th>\n",
              "      <td>15;PA;1979;55</td>\n",
              "    </tr>\n",
              "    <tr>\n",
              "      <th>...</th>\n",
              "      <td>...</td>\n",
              "    </tr>\n",
              "    <tr>\n",
              "      <th>195</th>\n",
              "      <td>42;SC;1986;185</td>\n",
              "    </tr>\n",
              "    <tr>\n",
              "      <th>196</th>\n",
              "      <td>41;PR;1986;471</td>\n",
              "    </tr>\n",
              "    <tr>\n",
              "      <th>197</th>\n",
              "      <td>35;SP;1986;1244</td>\n",
              "    </tr>\n",
              "    <tr>\n",
              "      <th>198</th>\n",
              "      <td>32;ES;1986;67</td>\n",
              "    </tr>\n",
              "    <tr>\n",
              "      <th>199</th>\n",
              "      <td>31;MG;1986;465</td>\n",
              "    </tr>\n",
              "  </tbody>\n",
              "</table>\n",
              "<p>200 rows × 1 columns</p>\n",
              "</div>"
            ],
            "text/plain": [
              "    cod;nome;período;valor\n",
              "0            11;RO;1979;21\n",
              "1             12;AC;1979;2\n",
              "2            13;AM;1979;19\n",
              "3             14;RR;1979;2\n",
              "4            15;PA;1979;55\n",
              "..                     ...\n",
              "195         42;SC;1986;185\n",
              "196         41;PR;1986;471\n",
              "197        35;SP;1986;1244\n",
              "198          32;ES;1986;67\n",
              "199         31;MG;1986;465\n",
              "\n",
              "[200 rows x 1 columns]"
            ]
          },
          "metadata": {
            "tags": []
          },
          "execution_count": 19
        }
      ]
    },
    {
      "cell_type": "markdown",
      "metadata": {
        "id": "5U9HROQOi9s2"
      },
      "source": [
        "**Conclusão**"
      ]
    },
    {
      "cell_type": "markdown",
      "metadata": {
        "id": "osPYk8zKgWYv"
      },
      "source": [
        "Num primeiro momento, foram selecionados os 04 estados com maiores taxas de mortalidade por suicídio ( Roraima, Acre, Amazonas, Pará ) e Santa Catarina, que ocupa o 10º lugar no ranking, tendo em vista o número de indígenas no estado e a alta incidência de suicídio entre essa população. O MS, por meio de apoito técnico e financiamento, acompanhando esses 6 estados na elaboração de seus respectivos Planos Estaduais de Prevenção do Suicídio, os quais funcionarão como projetos pilotos para construção do Plano Nacional de Prevenção **do**"
      ]
    }
  ]
}