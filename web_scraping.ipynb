{
 "cells": [
  {
   "cell_type": "code",
   "execution_count": 2,
   "metadata": {},
   "outputs": [],
   "source": [
    "import requests\r\n",
    "from bs4 import BeautifulSoup\r\n",
    "import pandas as pd\r\n",
    "import numpy as np\r\n",
    "import plotly.express as px\r\n",
    "import plotly.graph_objs as go"
   ]
  },
  {
   "cell_type": "code",
   "execution_count": 22,
   "metadata": {},
   "outputs": [
    {
     "name": "stdout",
     "output_type": "stream",
     "text": [
      "\n",
      "O tema é complexo, delicado e cheio de tabus, mas não pode ser ignorado pela sociedade. De acordo com a Organização Mundial da Saúde (OMS), cerca de 800 mil pessoas morrem todos os anos por atentarem contra a própria vida, o que corresponde a uma morte a cada 40 segundos. A cada morte, pelo menos seis pessoas são impactadas diretamente. A consequência é alarmante: em 2015, o suicídio foi considerado a segunda maior causa de morte entre jovens de 15 a 29 anos no mundo. Só no Brasil, 32 pessoas cometem suicídio todos os dias.\n",
      "Diante de tais dados, o Centro de Valorização da Vida (CVV), o Conselho Federal de Medicina (CFM) e a Associação Brasileira de Psiquiatria (ABP) se unem no Setembro Amarelo para prevenir o suicídio, lembrado dia 10 deste mês.\n",
      "\n"
     ]
    }
   ],
   "source": [
    "page = requests.get('http://www.unimed.coop.br/portalunimed/cartilhas/setembro-amarelo/')\r\n",
    "soup = BeautifulSoup(page.content, 'html.parser')\r\n",
    "intro = soup.find(class_='main')\r\n",
    "# print(intro)\r\n",
    "items = intro.find_all(class_='spotlight')\r\n",
    "print(items[0].find(class_='content').get_text())"
   ]
  },
  {
   "cell_type": "code",
   "execution_count": 29,
   "metadata": {},
   "outputs": [
    {
     "name": "stdout",
     "output_type": "stream",
     "text": [
      "[<ul class=\"features\">\n",
      "<li>\n",
      "<span class=\"image\"><img alt=\"\" src=\"images/depressao.png\"/></span>\n",
      "<h3>Doenças mentais</h3>\n",
      "<p class=\"paragraph-left\">De acordo com a Associação Brasileira de Psiquiatria (ABP), 50% dos suicidas tinham alguma doença mental identificada, não tratada ou não tratada de maneira adequada. Pacientes com mais de um transtorno identificado, têm os riscos aumentados. <br/>\n",
      "\t\t\t\t\t\t\t\t\t\tSão fatores de risco:<br/>\n",
      "\t\t\t\t\t\t\t\t\t\t Depressão<br/>\n",
      "\t\t\t\t\t\t\t\t\t\t Transtorno bipolar <br/>\n",
      "\t\t\t\t\t\t\t\t\t\t Transtornos mentais relacionados ao uso de álcool e outras substâncias<br/>\n",
      "\t\t\t\t\t\t\t\t\t\t Transtorno de personalidade<br/>\n",
      "\t\t\t\t\t\t\t\t\t\t Esquizofrenia \n",
      "\t\t\t\t\t\t\t\t\t\t</p>\n",
      "</li>\n",
      "<li>\n",
      "<span class=\"image\"><img alt=\"\" src=\"images/psicologicos.png\"/></span>\n",
      "<h3>Aspectos psicológicos</h3>\n",
      "<p class=\"paragraph-left\">Quando os fatores abaixo estiverem ligados ao consumo de substâncias químicas, o risco é extremamente alto. Além disso, pacientes que já tenham tentado suicídio têm entre cinco e seis vezes mais chances de atentar novamente contra a própria vida. <br/>\n",
      "\t\t\t\t\t\t\t\t\t\tOutros fatores:<br/>\n",
      "\t\t\t\t\t\t\t\t\t\t Perdas recentes<br/>\n",
      "\t\t\t\t\t\t\t\t\t\t Baixa resiliência<br/>\n",
      "\t\t\t\t\t\t\t\t\t\t Personalidade impulsiva, agressiva ou humor instável<br/>\n",
      "\t\t\t\t\t\t\t\t\t\t História de abuso físico ou sexual na infância<br/>\n",
      "\t\t\t\t\t\t\t\t\t\t Desesperança, desespero e desamparo<br/>\n",
      "\t\t\t\t\t\t\t\t\t\t Conflitos de identidade sexual\n",
      "\t\t\t\t\t\t\t\t\t\t</p>\n",
      "</li>\n",
      "<li style=\"margin-top:60px;\">\n",
      "<span class=\"image\"><img alt=\"\" src=\"images/sociais.png\"/></span>\n",
      "<h3>Aspectos sociais</h3>\n",
      "<p class=\"paragraph-left\">As mortes por suicídio acometem três vezes mais os homens do que as mulheres. Porém, as tentativas são três vezes mais frequentes entre elas. A explicação estaria no fato de os homens serem mais reservados para falar sobre problemas pessoais e, consequentemente, em buscar ajuda, resultado também da cultura na qual estão inseridos. Já as mulheres dispõem com mais facilidade de rede de contatos e de grupos de apoio que as auxiliam nas questões emocionais e psicológicas, o que amenizaria os riscos. Há também um índice elevado entre idosos. Os principais motivos são solidão, perda de cônjuges, doenças degenerativas dolorosas e sensação de dar trabalho para a família. <br/>\n",
      "\t\t\t\t\t\t\t\t\t\tOutros aspectos:<br/>\n",
      "\t\t\t\t\t\t\t\t\t\t Gênero masculino<br/>\n",
      "\t\t\t\t\t\t\t\t\t\t Idade entre 15 e 30 anos e acima de 65 anos <br/>\n",
      "\t\t\t\t\t\t\t\t\t\t Sem filhos <br/>\n",
      "\t\t\t\t\t\t\t\t\t\t Moradores de área urbana<br/>\n",
      "\t\t\t\t\t\t\t\t\t\t Desempregados ou aposentados<br/>\n",
      "\t\t\t\t\t\t\t\t\t\t Isolamento social<br/>\n",
      "\t\t\t\t\t\t\t\t\t\t Solteiros, separados ou viúvos <br/>\n",
      "\t\t\t\t\t\t\t\t\t\t Populações especiais: indígenas, adolescentes e moradores de rua\n",
      "\t\t\t\t\t\t\t\t\t\t</p>\n",
      "</li>\n",
      "<li>\n",
      "<span class=\"image\"><img alt=\"\" src=\"images/saude-limitante.png\"/></span>\n",
      "<h3>Condição de saúde limitante</h3>\n",
      "<p class=\"paragraph-left\">As condições mencionadas abaixo são fatores de risco, principalmente, nos primeiros meses de diagnóstico e nos casos em que o paciente não responde bem ao tratamento.<br/>\n",
      "\t\t\t\t\t\t\t\t\t\t Doenças orgânicas incapacitantes<br/>\n",
      "\t\t\t\t\t\t\t\t\t\t Dor crônica<br/>\n",
      "\t\t\t\t\t\t\t\t\t\t Doenças neurológicas (epilepsia, Parkinson, Hungtinton)<br/>\n",
      "\t\t\t\t\t\t\t\t\t\t Trauma medular<br/>\n",
      "\t\t\t\t\t\t\t\t\t\t Tumores malignos<br/>\n",
      "\t\t\t\t\t\t\t\t\t\t AIDS<br/>\n",
      "\t\t\t\t\t\t\t\t\t\t Esclerose múltipla<br/>\n",
      "\t\t\t\t\t\t\t\t\t\t Acidente Vascular Cerebral (AVC)\n",
      "\t\t\t\t\t\t\t\t\t\t</p>\n",
      "</li>\n",
      "</ul>]\n"
     ]
    }
   ],
   "source": [
    "fatores = soup.find(class_='main special')\r\n",
    "risco = fatores.find_all(class_='features')\r\n",
    "print(risco)"
   ]
  },
  {
   "cell_type": "code",
   "execution_count": 12,
   "metadata": {},
   "outputs": [
    {
     "name": "stdout",
     "output_type": "stream",
     "text": [
      "<section class=\"main special\" id=\"second\">\n",
      "<header class=\"major\">\n",
      "<h2>FATORES DE PROTEÇÃO</h2>\n",
      "</header>\n",
      "<ul class=\"statistics\">\n",
      "<li class=\"style1\">\n",
      "\t\t\t\t\t\t\t\t\t\tAutoestima elevada\n",
      "\t\t\t\t\t\t\t\t\t</li>\n",
      "<li class=\"style2\">\n",
      "\t\t\t\t\t\t\t\t\t\tBom suporte familiar\n",
      "\t\t\t\t\t\t\t\t\t</li>\n",
      "<li class=\"style3\">\n",
      "\t\t\t\t\t\t\t\t\t\tCrenças religiosas, culturais ou étnicas\n",
      "\t\t\t\t\t\t\t\t\t</li>\n",
      "<li class=\"style4\">\n",
      "\t\t\t\t\t\t\t\t\t\tLaços sociais estabelecidos\n",
      "\t\t\t\t\t\t\t\t\t</li>\n",
      "<li class=\"style5\">\n",
      "\t\t\t\t\t\t\t\t\t\tVida social e lazer\n",
      "\t\t\t\t\t\t\t\t\t</li>\n",
      "</ul>\n",
      "<span class=\"image\"><img alt=\"\" src=\"images/protecao.png\"/></span>\n",
      "<ul class=\"statistics\" style=\"margin-top: 2em;\">\n",
      "<li class=\"style5\">\n",
      "\t\t\t\t\t\t\t\t\t\tEstar empregado\n",
      "\t\t\t\t\t\t\t\t\t</li>\n",
      "<li class=\"style4\">\n",
      "\t\t\t\t\t\t\t\t\t\tTer criança em casa\n",
      "\t\t\t\t\t\t\t\t\t</li>\n",
      "<li class=\"style3\">\n",
      "\t\t\t\t\t\t\t\t\t\tAusência de doença mental\n",
      "\t\t\t\t\t\t\t\t\t</li>\n",
      "<li class=\"style2\">\n",
      "\t\t\t\t\t\t\t\t\t\tSenso de responsabilidade com a família \n",
      "\t\t\t\t\t\t\t\t\t</li>\n",
      "<li class=\"style1\">\n",
      "\t\t\t\t\t\t\t\t\t\tCapacidade de solucionar problemas\n",
      "\t\t\t\t\t\t\t\t\t</li>\n",
      "</ul>\n",
      "</section>\n"
     ]
    }
   ],
   "source": [
    "proteção = soup.find(id=\"second\", class_='main special')\r\n",
    "print(proteção)"
   ]
  },
  {
   "cell_type": "code",
   "execution_count": null,
   "metadata": {},
   "outputs": [],
   "source": []
  }
 ],
 "metadata": {
  "kernelspec": {
   "display_name": "Python 3.9.2 64-bit",
   "name": "python392jvsc74a57bd034d276ea37b3d67f5f4bee3739ccf172b0d800a41da6c574e378ee2d575d0eb8"
  },
  "language_info": {
   "name": "python",
   "version": ""
  },
  "metadata": {
   "interpreter": {
    "hash": "34d276ea37b3d67f5f4bee3739ccf172b0d800a41da6c574e378ee2d575d0eb8"
   }
  },
  "orig_nbformat": 2
 },
 "nbformat": 4,
 "nbformat_minor": 2
}