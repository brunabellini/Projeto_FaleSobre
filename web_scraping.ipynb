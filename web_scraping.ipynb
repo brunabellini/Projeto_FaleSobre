{
 "cells": [
  {
   "cell_type": "code",
   "execution_count": 61,
   "metadata": {},
   "outputs": [],
   "source": [
    "import requests\r\n",
    "from bs4 import BeautifulSoup\r\n",
    "import pandas as pd\r\n",
    "import numpy as np\r\n",
    "import re\r\n",
    "import plotly.express as px\r\n",
    "import plotly.graph_objs as go"
   ]
  },
  {
   "cell_type": "markdown",
   "metadata": {},
   "source": [
    "introdução"
   ]
  },
  {
   "cell_type": "code",
   "execution_count": 62,
   "metadata": {},
   "outputs": [
    {
     "name": "stdout",
     "output_type": "stream",
     "text": [
      "\n",
      "O tema é complexo, delicado e cheio de tabus, mas não pode ser ignorado pela sociedade. De acordo com a Organização Mundial da Saúde (OMS), cerca de 800 mil pessoas morrem todos os anos por atentarem contra a própria vida, o que corresponde a uma morte a cada 40 segundos. A cada morte, pelo menos seis pessoas são impactadas diretamente. A consequência é alarmante: em 2015, o suicídio foi considerado a segunda maior causa de morte entre jovens de 15 a 29 anos no mundo. Só no Brasil, 32 pessoas cometem suicídio todos os dias.\n",
      "Diante de tais dados, o Centro de Valorização da Vida (CVV), o Conselho Federal de Medicina (CFM) e a Associação Brasileira de Psiquiatria (ABP) se unem no Setembro Amarelo para prevenir o suicídio, lembrado dia 10 deste mês.\n",
      "\n"
     ]
    }
   ],
   "source": [
    "page = requests.get('http://www.unimed.coop.br/portalunimed/cartilhas/setembro-amarelo/')\r\n",
    "soup = BeautifulSoup(page.content, 'html.parser')\r\n",
    "intro = soup.find(class_='main')\r\n",
    "# print(intro)\r\n",
    "items = intro.find_all(class_='spotlight')\r\n",
    "print(items[0].find(class_='content').get_text())"
   ]
  },
  {
   "cell_type": "markdown",
   "metadata": {},
   "source": [
    "fatores de risco"
   ]
  },
  {
   "cell_type": "code",
   "execution_count": 97,
   "metadata": {},
   "outputs": [
    {
     "name": "stdout",
     "output_type": "stream",
     "text": [
      "[<ul class=\"features\">\n",
      "<li>\n",
      "<span class=\"image\"><img alt=\"\" src=\"images/depressao.png\"/></span>\n",
      "<h3>Doenças mentais</h3>\n",
      "<p class=\"paragraph-left\">De acordo com a Associação Brasileira de Psiquiatria (ABP), 50% dos suicidas tinham alguma doença mental identificada, não tratada ou não tratada de maneira adequada. Pacientes com mais de um transtorno identificado, têm os riscos aumentados. <br/>\n",
      "\t\t\t\t\t\t\t\t\t\tSão fatores de risco:<br/>\n",
      "\t\t\t\t\t\t\t\t\t\t Depressão<br/>\n",
      "\t\t\t\t\t\t\t\t\t\t Transtorno bipolar <br/>\n",
      "\t\t\t\t\t\t\t\t\t\t Transtornos mentais relacionados ao uso de álcool e outras substâncias<br/>\n",
      "\t\t\t\t\t\t\t\t\t\t Transtorno de personalidade<br/>\n",
      "\t\t\t\t\t\t\t\t\t\t Esquizofrenia \n",
      "\t\t\t\t\t\t\t\t\t\t</p>\n",
      "</li>\n",
      "<li>\n",
      "<span class=\"image\"><img alt=\"\" src=\"images/psicologicos.png\"/></span>\n",
      "<h3>Aspectos psicológicos</h3>\n",
      "<p class=\"paragraph-left\">Quando os fatores abaixo estiverem ligados ao consumo de substâncias químicas, o risco é extremamente alto. Além disso, pacientes que já tenham tentado suicídio têm entre cinco e seis vezes mais chances de atentar novamente contra a própria vida. <br/>\n",
      "\t\t\t\t\t\t\t\t\t\tOutros fatores:<br/>\n",
      "\t\t\t\t\t\t\t\t\t\t Perdas recentes<br/>\n",
      "\t\t\t\t\t\t\t\t\t\t Baixa resiliência<br/>\n",
      "\t\t\t\t\t\t\t\t\t\t Personalidade impulsiva, agressiva ou humor instável<br/>\n",
      "\t\t\t\t\t\t\t\t\t\t História de abuso físico ou sexual na infância<br/>\n",
      "\t\t\t\t\t\t\t\t\t\t Desesperança, desespero e desamparo<br/>\n",
      "\t\t\t\t\t\t\t\t\t\t Conflitos de identidade sexual\n",
      "\t\t\t\t\t\t\t\t\t\t</p>\n",
      "</li>\n",
      "<li style=\"margin-top:60px;\">\n",
      "<span class=\"image\"><img alt=\"\" src=\"images/sociais.png\"/></span>\n",
      "<h3>Aspectos sociais</h3>\n",
      "<p class=\"paragraph-left\">As mortes por suicídio acometem três vezes mais os homens do que as mulheres. Porém, as tentativas são três vezes mais frequentes entre elas. A explicação estaria no fato de os homens serem mais reservados para falar sobre problemas pessoais e, consequentemente, em buscar ajuda, resultado também da cultura na qual estão inseridos. Já as mulheres dispõem com mais facilidade de rede de contatos e de grupos de apoio que as auxiliam nas questões emocionais e psicológicas, o que amenizaria os riscos. Há também um índice elevado entre idosos. Os principais motivos são solidão, perda de cônjuges, doenças degenerativas dolorosas e sensação de dar trabalho para a família. <br/>\n",
      "\t\t\t\t\t\t\t\t\t\tOutros aspectos:<br/>\n",
      "\t\t\t\t\t\t\t\t\t\t Gênero masculino<br/>\n",
      "\t\t\t\t\t\t\t\t\t\t Idade entre 15 e 30 anos e acima de 65 anos <br/>\n",
      "\t\t\t\t\t\t\t\t\t\t Sem filhos <br/>\n",
      "\t\t\t\t\t\t\t\t\t\t Moradores de área urbana<br/>\n",
      "\t\t\t\t\t\t\t\t\t\t Desempregados ou aposentados<br/>\n",
      "\t\t\t\t\t\t\t\t\t\t Isolamento social<br/>\n",
      "\t\t\t\t\t\t\t\t\t\t Solteiros, separados ou viúvos <br/>\n",
      "\t\t\t\t\t\t\t\t\t\t Populações especiais: indígenas, adolescentes e moradores de rua\n",
      "\t\t\t\t\t\t\t\t\t\t</p>\n",
      "</li>\n",
      "<li>\n",
      "<span class=\"image\"><img alt=\"\" src=\"images/saude-limitante.png\"/></span>\n",
      "<h3>Condição de saúde limitante</h3>\n",
      "<p class=\"paragraph-left\">As condições mencionadas abaixo são fatores de risco, principalmente, nos primeiros meses de diagnóstico e nos casos em que o paciente não responde bem ao tratamento.<br/>\n",
      "\t\t\t\t\t\t\t\t\t\t Doenças orgânicas incapacitantes<br/>\n",
      "\t\t\t\t\t\t\t\t\t\t Dor crônica<br/>\n",
      "\t\t\t\t\t\t\t\t\t\t Doenças neurológicas (epilepsia, Parkinson, Hungtinton)<br/>\n",
      "\t\t\t\t\t\t\t\t\t\t Trauma medular<br/>\n",
      "\t\t\t\t\t\t\t\t\t\t Tumores malignos<br/>\n",
      "\t\t\t\t\t\t\t\t\t\t AIDS<br/>\n",
      "\t\t\t\t\t\t\t\t\t\t Esclerose múltipla<br/>\n",
      "\t\t\t\t\t\t\t\t\t\t Acidente Vascular Cerebral (AVC)\n",
      "\t\t\t\t\t\t\t\t\t\t</p>\n",
      "</li>\n",
      "</ul>]\n"
     ]
    }
   ],
   "source": [
    "fatores = soup.find(class_='main special')\r\n",
    "risco = fatores.find_all(class_='features')\r\n",
    "print(risco)"
   ]
  },
  {
   "cell_type": "code",
   "execution_count": 73,
   "metadata": {},
   "outputs": [
    {
     "name": "stdout",
     "output_type": "stream",
     "text": [
      "De acordo com a Associação Brasileira de Psiquiatria (ABP), 50% dos suicidas tinham alguma doença mental identificada, não tratada ou não tratada de maneira adequada. Pacientes com mais de um transtorno identificado, têm os riscos aumentados. \n",
      "\t\t\t\t\t\t\t\t\t\tSão fatores de risco:\n",
      "\t\t\t\t\t\t\t\t\t\t Depressão\n",
      "\t\t\t\t\t\t\t\t\t\t Transtorno bipolar \n",
      "\t\t\t\t\t\t\t\t\t\t Transtornos mentais relacionados ao uso de álcool e outras substâncias\n",
      "\t\t\t\t\t\t\t\t\t\t Transtorno de personalidade\n",
      "\t\t\t\t\t\t\t\t\t\t Esquizofrenia \n",
      "\t\t\t\t\t\t\t\t\t\t\n"
     ]
    }
   ],
   "source": [
    "secaoa = risco[0].find(class_='paragraph-left').get_text()\r\n",
    "print(secaoa)"
   ]
  },
  {
   "cell_type": "markdown",
   "metadata": {},
   "source": [
    "fatores de proteção"
   ]
  },
  {
   "cell_type": "code",
   "execution_count": 11,
   "metadata": {},
   "outputs": [
    {
     "name": "stdout",
     "output_type": "stream",
     "text": [
      "<section class=\"main special\" id=\"second\">\n",
      " <header class=\"major\">\n",
      "  <h2>\n",
      "   FATORES DE PROTEÇÃO\n",
      "  </h2>\n",
      " </header>\n",
      " <ul class=\"statistics\">\n",
      "  <li class=\"style1\">\n",
      "   Autoestima elevada\n",
      "  </li>\n",
      "  <li class=\"style2\">\n",
      "   Bom suporte familiar\n",
      "  </li>\n",
      "  <li class=\"style3\">\n",
      "   Crenças religiosas, culturais ou étnicas\n",
      "  </li>\n",
      "  <li class=\"style4\">\n",
      "   Laços sociais estabelecidos\n",
      "  </li>\n",
      "  <li class=\"style5\">\n",
      "   Vida social e lazer\n",
      "  </li>\n",
      " </ul>\n",
      " <span class=\"image\">\n",
      "  <img alt=\"\" src=\"images/protecao.png\"/>\n",
      " </span>\n",
      " <ul class=\"statistics\" style=\"margin-top: 2em;\">\n",
      "  <li class=\"style5\">\n",
      "   Estar empregado\n",
      "  </li>\n",
      "  <li class=\"style4\">\n",
      "   Ter criança em casa\n",
      "  </li>\n",
      "  <li class=\"style3\">\n",
      "   Ausência de doença mental\n",
      "  </li>\n",
      "  <li class=\"style2\">\n",
      "   Senso de responsabilidade com a família\n",
      "  </li>\n",
      "  <li class=\"style1\">\n",
      "   Capacidade de solucionar problemas\n",
      "  </li>\n",
      " </ul>\n",
      "</section>\n",
      "\n"
     ]
    }
   ],
   "source": [
    "protecao = soup.find(id=\"second\", class_='main special')\r\n",
    "print(protecao.prettify())"
   ]
  },
  {
   "cell_type": "code",
   "execution_count": 89,
   "metadata": {},
   "outputs": [],
   "source": [
    "item1 = protecao.find_all(class_='statistics')\r\n",
    "a= re.sub(r\"\\t|\\n|\\r\", \"\", (item1[0].find(class_='style1').get_text()))\r\n",
    "b= re.sub(r\"\\t|\\n|\\r\", \"\", (item1[0].find(class_='style2').get_text()))\r\n",
    "c= re.sub(r\"\\t|\\n|\\r\", \"\", (item1[0].find(class_='style3').get_text()))\r\n",
    "d= re.sub(r\"\\t|\\n|\\r\", \"\", (item1[0].find(class_='style4').get_text()))\r\n",
    "e= re.sub(r\"\\t|\\n|\\r\", \"\", (item1[0].find(class_='style5').get_text()))\r\n",
    "\r\n",
    "item2 = protecao.find_all(class_='statistics', style=\"margin-top: 2em;\")\r\n",
    "f= re.sub(r\"\\t|\\n|\\r\", \"\", (item2[0].find(class_='style5').get_text()))\r\n",
    "g= re.sub(r\"\\t|\\n|\\r\", \"\", (item2[0].find(class_='style4').get_text()))\r\n",
    "h= re.sub(r\"\\t|\\n|\\r\", \"\", (item2[0].find(class_='style3').get_text()))\r\n",
    "i= re.sub(r\"\\t|\\n|\\r\", \"\", (item2[0].find(class_='style2').get_text()))\r\n",
    "j= re.sub(r\"\\t|\\n|\\r\", \"\", (item2[0].find(class_='style1').get_text()))"
   ]
  },
  {
   "cell_type": "code",
   "execution_count": 93,
   "metadata": {},
   "outputs": [
    {
     "name": "stdout",
     "output_type": "stream",
     "text": [
      "Autoestima elevada\n",
      "Bom suporte familiar\n",
      "Crenças religiosas, culturais ou étnicas\n",
      "Laços sociais estabelecidos\n",
      "Vida social e lazer\n",
      "Estar empregado\n",
      "Ter criança em casa\n",
      "Ausência de doença mental\n",
      "Senso de responsabilidade com a família \n",
      "Capacidade de solucionar problemas\n"
     ]
    }
   ],
   "source": [
    "print(a)\r\n",
    "print(b)\r\n",
    "print(c)\r\n",
    "print(d)\r\n",
    "print(e)\r\n",
    "print(f)\r\n",
    "print(g)\r\n",
    "print(h)\r\n",
    "print(i)\r\n",
    "print(j)"
   ]
  },
  {
   "cell_type": "markdown",
   "metadata": {},
   "source": [
    "DataFrame"
   ]
  },
  {
   "cell_type": "code",
   "execution_count": 94,
   "metadata": {},
   "outputs": [
    {
     "data": {
      "text/html": "<div>\n<style scoped>\n    .dataframe tbody tr th:only-of-type {\n        vertical-align: middle;\n    }\n\n    .dataframe tbody tr th {\n        vertical-align: top;\n    }\n\n    .dataframe thead th {\n        text-align: right;\n    }\n</style>\n<table border=\"1\" class=\"dataframe\">\n  <thead>\n    <tr style=\"text-align: right;\">\n      <th></th>\n      <th>Fatores de Proteção</th>\n    </tr>\n  </thead>\n  <tbody>\n    <tr>\n      <th>0</th>\n      <td>Autoestima elevada</td>\n    </tr>\n    <tr>\n      <th>1</th>\n      <td>Bom suporte familiar</td>\n    </tr>\n    <tr>\n      <th>2</th>\n      <td>Crenças religiosas, culturais ou étnicas</td>\n    </tr>\n    <tr>\n      <th>3</th>\n      <td>Laços sociais estabelecidos</td>\n    </tr>\n    <tr>\n      <th>4</th>\n      <td>Vida social e lazer</td>\n    </tr>\n    <tr>\n      <th>5</th>\n      <td>Estar empregado</td>\n    </tr>\n    <tr>\n      <th>6</th>\n      <td>Ter criança em casa</td>\n    </tr>\n    <tr>\n      <th>7</th>\n      <td>Ausência de doença mental</td>\n    </tr>\n    <tr>\n      <th>8</th>\n      <td>Senso de responsabilidade com a família</td>\n    </tr>\n    <tr>\n      <th>9</th>\n      <td>Capacidade de solucionar problemas</td>\n    </tr>\n  </tbody>\n</table>\n</div>",
      "text/plain": "                        Fatores de Proteção\n0                        Autoestima elevada\n1                      Bom suporte familiar\n2  Crenças religiosas, culturais ou étnicas\n3               Laços sociais estabelecidos\n4                       Vida social e lazer\n5                           Estar empregado\n6                       Ter criança em casa\n7                 Ausência de doença mental\n8  Senso de responsabilidade com a família \n9        Capacidade de solucionar problemas"
     },
     "execution_count": 94,
     "metadata": {},
     "output_type": "execute_result"
    }
   ],
   "source": [
    "tabela= {'Fatores de Proteção' : [a,b,c,d,e,f,g,h,i,j]}\r\n",
    "fatores_protecao= pd.DataFrame.from_dict(tabela, orient='index')\r\n",
    "fatores_protecao.transpose()"
   ]
  }
 ],
 "metadata": {
  "kernelspec": {
   "display_name": "Python 3.9.2 64-bit",
   "name": "python392jvsc74a57bd034d276ea37b3d67f5f4bee3739ccf172b0d800a41da6c574e378ee2d575d0eb8"
  },
  "language_info": {
   "codemirror_mode": {
    "name": "ipython",
    "version": 3
   },
   "file_extension": ".py",
   "mimetype": "text/x-python",
   "name": "python",
   "nbconvert_exporter": "python",
   "pygments_lexer": "ipython3",
   "version": "3.9.2"
  },
  "metadata": {
   "interpreter": {
    "hash": "34d276ea37b3d67f5f4bee3739ccf172b0d800a41da6c574e378ee2d575d0eb8"
   }
  },
  "orig_nbformat": 2
 },
 "nbformat": 4,
 "nbformat_minor": 2
}